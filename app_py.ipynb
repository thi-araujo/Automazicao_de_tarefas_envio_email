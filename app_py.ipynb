{
  "nbformat": 4,
  "nbformat_minor": 0,
  "metadata": {
    "colab": {
      "provenance": [],
      "authorship_tag": "ABX9TyProOG78TlKAn3VNQI5jn8h",
      "include_colab_link": true
    },
    "kernelspec": {
      "name": "python3",
      "display_name": "Python 3"
    },
    "language_info": {
      "name": "python"
    }
  },
  "cells": [
    {
      "cell_type": "markdown",
      "metadata": {
        "id": "view-in-github",
        "colab_type": "text"
      },
      "source": [
        "<a href=\"https://colab.research.google.com/github/thi-araujo/Automazicao_de_tarefas_envio_email/blob/master/app_py.ipynb\" target=\"_parent\"><img src=\"https://colab.research.google.com/assets/colab-badge.svg\" alt=\"Open In Colab\"/></a>"
      ]
    },
    {
      "cell_type": "code",
      "execution_count": null,
      "metadata": {
        "id": "bAGtQvXBAi51"
      },
      "outputs": [],
      "source": [
        "dicionario={'pessoa_1':{'nome':'Peterson','sobrenome':'Almeida'}, 'pessoa_2':{'nome':'Maria','sobrenome':'Silva'}, 'pessoa_3':{'nome':'Jose','sobrenome':'Santos'}}\n",
        "\n",
        "nome_completo=[] for a,b in dicionario.items(): nome_completo.append(str(b['nome'])'+'str(b['sobrenome']))\n",
        "print(nome_completo)"
      ]
    },
    {
      "cell_type": "code",
      "source": [
        "print()"
      ],
      "metadata": {
        "id": "5MKWUs3B-dM_"
      },
      "execution_count": null,
      "outputs": []
    },
    {
      "cell_type": "markdown",
      "source": [
        "# New Section"
      ],
      "metadata": {
        "id": "n2T2sZI50xjr"
      }
    },
    {
      "cell_type": "code",
      "source": [],
      "metadata": {
        "id": "SWqXXLJCcPjx"
      },
      "execution_count": null,
      "outputs": []
    },
    {
      "cell_type": "code",
      "source": [],
      "metadata": {
        "id": "3RdK7gYIcPfB"
      },
      "execution_count": null,
      "outputs": []
    },
    {
      "cell_type": "code",
      "source": [],
      "metadata": {
        "id": "t0H14EcNcPaD"
      },
      "execution_count": null,
      "outputs": []
    },
    {
      "cell_type": "code",
      "source": [],
      "metadata": {
        "id": "uaeGuRyXcPUc"
      },
      "execution_count": null,
      "outputs": []
    },
    {
      "cell_type": "code",
      "source": [],
      "metadata": {
        "id": "Q34-tJzGcPNZ"
      },
      "execution_count": null,
      "outputs": []
    },
    {
      "cell_type": "code",
      "source": [],
      "metadata": {
        "id": "RSaUx9eZcPE0"
      },
      "execution_count": null,
      "outputs": []
    },
    {
      "cell_type": "code",
      "source": [],
      "metadata": {
        "id": "PXAUFBOTcO5w"
      },
      "execution_count": null,
      "outputs": []
    },
    {
      "cell_type": "code",
      "source": [],
      "metadata": {
        "id": "lEApI4jJcOow"
      },
      "execution_count": null,
      "outputs": []
    }
  ]
}