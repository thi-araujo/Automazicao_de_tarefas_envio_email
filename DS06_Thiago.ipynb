{
  "nbformat": 4,
  "nbformat_minor": 0,
  "metadata": {
    "colab": {
      "provenance": [],
      "include_colab_link": true
    },
    "kernelspec": {
      "name": "python3",
      "display_name": "Python 3"
    },
    "language_info": {
      "name": "python"
    }
  },
  "cells": [
    {
      "cell_type": "markdown",
      "metadata": {
        "id": "view-in-github",
        "colab_type": "text"
      },
      "source": [
        "<a href=\"https://colab.research.google.com/github/thi-araujo/Automazicao_de_tarefas_envio_email/blob/master/DS06_Thiago.ipynb\" target=\"_parent\"><img src=\"https://colab.research.google.com/assets/colab-badge.svg\" alt=\"Open In Colab\"/></a>"
      ]
    },
    {
      "cell_type": "markdown",
      "source": [
        "Questão 1: Classifique os tipos de dados das seguintes variáveis\n",
        "1. x =5\n",
        "2. x =5.0\n",
        "3. x =5.5\n",
        "4. x ='DNC'\n",
        "5. x =1/2\n",
        "6. x =0.5*2\n",
        "7. x =2 **4\n",
        "8. x =2+4\n",
        "9. x =1000000000\n",
        "10. Peça para o usuário inputar um dado inteiro e confira o tipo dele\n",
        "11. Peça para o usuário inputar um dado float e confira o tipo dele\n",
        "12. Peça para o usuário inputar um dado string e confira o tipo dele\n",
        "13. Peça para o usuário inputar um dado sem definir o tipo e confira o tipo dele\n"
      ],
      "metadata": {
        "id": "I2EoFhY4osno"
      }
    },
    {
      "cell_type": "code",
      "source": [
        "x = 5\n",
        "type(x)\n",
        "\n",
        "x = 5.0\n",
        "type(x)\n",
        "\n",
        "x = 5.5\n",
        "type(x)\n",
        "\n",
        "x = ' Escola DNC'\n",
        "type(x)\n",
        "\n",
        "x = 1/2\n",
        "type(x)\n",
        "\n",
        "x = 0.5*2\n",
        "type(x)\n",
        "\n",
        "x = 2**4\n",
        "type(x)\n",
        "\n",
        "x = 2+4\n",
        "type(x)\n",
        "\n",
        "x = 10000000000\n",
        "type(x)\n",
        "\n",
        "x = input('Digite um Valor Inteiro: ')"
      ],
      "metadata": {
        "id": "NTG4BM9zqm8a"
      },
      "execution_count": null,
      "outputs": []
    },
    {
      "cell_type": "markdown",
      "source": [
        "Questão 2: Faça um print com duas linhas tracejadas acima e duas abaixo com\n",
        "50 linhas em cada uma delas e no meio coloque \"DS06 - DNC\""
      ],
      "metadata": {
        "id": "nqXVMDiapIuZ"
      }
    },
    {
      "cell_type": "code",
      "source": [
        "print('-'*50)\n",
        "print('-'*50)\n",
        "print('                   DS06 - Escola DNC')\n",
        "print('-'*50)\n",
        "print('-'*50)"
      ],
      "metadata": {
        "colab": {
          "base_uri": "https://localhost:8080/"
        },
        "id": "-7KbGg4oqE3n",
        "outputId": "5cb957db-9c4a-4aae-e20c-e87cddfd9a1a"
      },
      "execution_count": null,
      "outputs": [
        {
          "output_type": "stream",
          "name": "stdout",
          "text": [
            "--------------------------------------------------\n",
            "--------------------------------------------------\n",
            "                   DS06 - DNC\n",
            "--------------------------------------------------\n",
            "--------------------------------------------------\n"
          ]
        }
      ]
    },
    {
      "cell_type": "markdown",
      "source": [
        "Questão 3. Você acabou de se formar na turma 05 de Formação em dados\n",
        "e conseguiu um emprego de um cientista de dados jr. com um salário de\n",
        "R$10.000,00 mensais. Você quer calcular quanto conseguirá guardar na\n",
        "poupança ao final do mês depois que pagar suas contas. Considere os\n",
        "dados abaixo para fazer um print igual ao que está em anexo.\n",
        "\n",
        "salario_cientista_de_dados =10000.00\n",
        "parcela_bmw =2500.45\n",
        "parcela_apartamento =3500.50\n",
        "veterinario_romeuzinho =500.00\n",
        "luz =100.80\n",
        "agua =80.35\n",
        "condominio =800.44\n",
        "gas =150.65"
      ],
      "metadata": {
        "id": "xk1bDfihpIww"
      }
    },
    {
      "cell_type": "code",
      "source": [
        "salario = 10000\n",
        "\n",
        "bmw = 2500.45\n",
        "ape = 3500.5\n",
        "dog = 500\n",
        "luz = 100.8\n",
        "agua = 80.35\n",
        "cond = 800.44\n",
        "gas = 150.65\n",
        "\n",
        "despesas_totais = bmw + ape + dog + luz + agua + cond + gas\n",
        "\n",
        "poupanca = salario - despesas_totais\n",
        "\n",
        "print(f'O Valor a ser depositado na Poupança é de: R$ {Poupanca:.2f}')"
      ],
      "metadata": {
        "colab": {
          "base_uri": "https://localhost:8080/"
        },
        "id": "e-gA6lixqFnD",
        "outputId": "d0fdcdd1-1d66-4593-e903-312d1a8028c2"
      },
      "execution_count": null,
      "outputs": [
        {
          "output_type": "stream",
          "name": "stdout",
          "text": [
            "O valor a ser depositado na poupança é de: R$ 2366.81\n"
          ]
        }
      ]
    },
    {
      "cell_type": "markdown",
      "source": [
        "Questão 4: Você é um vendedor de cursos na DNC e os clientes entram em contato com\n",
        "você para adquirir um de nossos seguintes cursos (Com os respectivos valores) e o\n",
        "cliente pode escolher apenas 1,\n",
        "1.Formação_em_dados =20000.00\n",
        "2.Formação_em_projetos =15000.00\n",
        "3.Formação_em_marketing =13000.00\n",
        "4.Formação_em_produto =18000.00\n",
        "5.Formação_em_tecnologia =19000.00\n",
        "Monte um código onde a primeira pergunta será \"Qual curso você quer escolher (1=\n",
        "Formação_em_dados, 2 =Formação_em_projetos, 3 =Formação_em_marketing, 4=\n",
        "Formação_em_produto, 5 =Formação_em_tecnologia)?\"\n",
        "E de acordo com a escolha, ele entre em um if e emita a seguinte mensagem padrão\n",
        "\"Você escolheu o curso Formação em XXXXX no valor de R$ valor que começará no\n",
        "próximo mês\".\n",
        "Caso o usuário digite um valor diferente dos dispostos, emita a seguinte mensagem\n",
        "\"Digite um valor correspondente a um curso de nossas formações \\n1-Formação em\n",
        "dados \\n2-Formação em projetos\\n3-Formação em marketing\\n4-Formação em\n",
        "produto\\n5-Formação em tecnologia\"\n"
      ],
      "metadata": {
        "id": "kk92deaopI0A"
      }
    },
    {
      "cell_type": "code",
      "source": [
        "dados = 20000\n",
        "proj = 15000\n",
        "mkt = 13000\n",
        "prod = 18000\n",
        "tec = 19000\n",
        "\n",
        "escolha = input(\"Qual Curso você quer escolher (1 = Formação_em_Dados, 2 = Formação_em_projetos, 3 = Formação_em_Marketing, 4 = Formação_em_Produto, 5 = Formação_em_Tecnologia)?\")\n",
        "\n",
        "if escolha == '1':\n",
        "\n",
        "  print(\"Você escolheu o Curso Formação em dados no valor de R$ 20000, valor que começará no próximo mês\")\n",
        "\n",
        "elif escolha == '2':\n",
        "\n",
        "  print(\"Você escolheu o curso Formação em projetos no valor de R$ 15000, valor que começará no próximo mês\")\n",
        "\n",
        "elif escolha == '3':\n",
        "\n",
        "  print(\"Você escolheu o curso Formação em marketing no valor de R$ 13000, valor que começará no próximo mês\")\n",
        "\n",
        "elif escolha == '4':\n",
        "\n",
        "  print(\"Você escolheu o curso Formação em produto no valor de R$ 17000, valor que começará no próximo mês\")\n",
        "\n",
        "elif escolha == '5':\n",
        "\n",
        "  print(\"Você escolheu o curso Formação em tecnologia no valor de R$ 19000, valor que começará no próximo mês\")\n",
        "\n",
        "else:\n",
        "\n",
        "  print( \"Digite um valor correspondente a um curso de nossas formações \\n1-Formação em dados \\n2-Formação em projetos\\n3-Formação em marketing\\n4-Formação em produto\\n5-Formação em tecnologia\")\n",
        "\n"
      ],
      "metadata": {
        "colab": {
          "base_uri": "https://localhost:8080/"
        },
        "id": "VapXG2haqGBz",
        "outputId": "05df0f00-53e5-4c85-a7df-df0be6a88294"
      },
      "execution_count": null,
      "outputs": [
        {
          "output_type": "stream",
          "name": "stdout",
          "text": [
            "Qual curso você quer escolher (1 = Formação_em_dados, 2 = Formação_em_projetos, 3 = Formação_em_marketing, 4 = Formação_em_produto, 5 = Formação_em_tecnologia)?g\n",
            "Digite um valor correspondente a um curso de nossas formações \n",
            "1-Formação em dados \n",
            "2-Formação em projetos\n",
            "3-Formação em marketing\n",
            "4-Formação em produto\n",
            "5-Formação em tecnologia\n"
          ]
        }
      ]
    },
    {
      "cell_type": "markdown",
      "source": [
        "Questão 5. A DNC pretende faturar 2 milhões em 1 mês. Faça a leitura\n",
        "da quantidade de vendas de cada formação e calcule a receita total de\n",
        "vendas, a receita media geral e verifique se eles bateram a meta\n",
        "mensal utilizando as seguintes mensagens\n",
        "Se bateram: \"Parabéns!!! A DNC bateu a meta do mês\"\n",
        "Se não bateram: \"Esse mês não batemos a meta, porém mês que vem\n",
        "vamos vir mais forte pra recuperar!!!\"\n",
        "(Utilize as informações de preço do exercício acima)\n"
      ],
      "metadata": {
        "id": "6NYRQQH2pI3C"
      }
    },
    {
      "cell_type": "code",
      "source": [
        "venda_dados = 10\n",
        "venda_proj = 50\n",
        "\n",
        "total = (dados * venda_dados) + (proj * venda_proj)\n",
        "total\n",
        "\n",
        "rec_media = total / 2\n",
        "rec_media\n",
        "\n",
        "if total >= 2000000:\n",
        "  print('PARABÉNS!')\n",
        "\n",
        "else:\n",
        "  print('Você está demitido!')"
      ],
      "metadata": {
        "colab": {
          "base_uri": "https://localhost:8080/"
        },
        "id": "Qrheo_ro4TX1",
        "outputId": "adf85892-32cd-4c24-d963-e7f3fb40e361"
      },
      "execution_count": null,
      "outputs": [
        {
          "output_type": "stream",
          "name": "stdout",
          "text": [
            "Você está demitido!\n"
          ]
        }
      ]
    },
    {
      "cell_type": "code",
      "source": [
        "total = (dados * venda_dados) + (proj * venda_proj) ...\n",
        "\n",
        "rec_media = total / 5\n",
        "\n",
        "if total >= 2000000:\n",
        "  print()\n",
        "\n",
        "else:\n",
        "  print()"
      ],
      "metadata": {
        "id": "k6HYmiiEqGWb"
      },
      "execution_count": null,
      "outputs": []
    },
    {
      "cell_type": "markdown",
      "source": [
        "Questão 6. O aluno da DNC precisa fazer um código que faça a somatória de uma\n",
        "sequência de números um por um, informando no começo do código qual a posição a\n",
        "somatória deve parar. Monte uma estrutura de repetição que resolva esse problema.\n",
        "Exemplo: Ele vai parar no numero 3, então vai somar 1+2+3\n"
      ],
      "metadata": {
        "id": "hLz5_S8gpI5i"
      }
    },
    {
      "cell_type": "code",
      "source": [
        "parar = int(input('Digite em que posição você quer parar a soma: '))\n",
        "soma = 0\n",
        "i = 0\n",
        "\n",
        "while i <= parar:\n",
        "\n",
        "  soma += i\n",
        "  i += 1\n",
        "\n",
        "print(f'A soma é: {soma}')"
      ],
      "metadata": {
        "colab": {
          "base_uri": "https://localhost:8080/"
        },
        "id": "3boUoqYLqGsf",
        "outputId": "cc17ee83-0007-403b-e057-88ebc2d9c0bf"
      },
      "execution_count": null,
      "outputs": [
        {
          "output_type": "stream",
          "name": "stdout",
          "text": [
            "Digite em que posição você quer parar a soma: 3\n",
            "A soma é: 6\n"
          ]
        }
      ]
    },
    {
      "cell_type": "markdown",
      "source": [
        "Questão 7. O aluno da DNC está no spotify e percebeu que poderia criar um código\n",
        "para demonstrar como o spotify troca de música. Faça uma estrutura de repetição que\n",
        "quando digita-se 'p' o código emitirá uma mensagem \"Próxima música\" e qualquer\n",
        "outra letra ou número o código emitirá uma mensagem \"Fechando o app\" \"Até a\n",
        "próxima\""
      ],
      "metadata": {
        "id": "XZYuKfCYpI7f"
      }
    },
    {
      "cell_type": "code",
      "source": [
        "acao = 'p'\n",
        "\n",
        "while acao == 'p':\n",
        "\n",
        "  acao = input(\"Digite 'p' para pular a música, ou qualquer outra tecla para sair: \")\n",
        "\n",
        "  if acao == 'p':\n",
        "\n",
        "    print('Próxima música!')\n",
        "\n",
        "  else:\n",
        "\n",
        "    print(\"Fechando o app. Até a próxima\")\n",
        "\n"
      ],
      "metadata": {
        "colab": {
          "base_uri": "https://localhost:8080/"
        },
        "id": "BvaasgHYqHAK",
        "outputId": "aa05ea49-3f01-4870-8a62-18e94df671cb"
      },
      "execution_count": null,
      "outputs": [
        {
          "output_type": "stream",
          "name": "stdout",
          "text": [
            "Digite 'p' para pular a música, ou qualquer outra tecla para sair: p\n",
            "Próxima música!\n",
            "Digite 'p' para pular a música, ou qualquer outra tecla para sair: o\n",
            "Fechando o app. Até a próxima\n"
          ]
        }
      ]
    },
    {
      "cell_type": "markdown",
      "source": [
        "Questão 8. O aluno da DNC quer criar um código para dar parabéns para 3 pessoas do\n",
        "seu grupo de projeto, como reconhecimento de seu trabalho duro. Faça uma estrutura\n",
        "de repetição onde seja informado 3 nomes e printado a seguinte mensagem \"Parabéns\n",
        "por toda sua ajuda no projeto, você está sendo essencial para o resultado que estamos\n",
        "atingindo, NOME DA PESSOA\""
      ],
      "metadata": {
        "id": "2aClU75kpJYp"
      }
    },
    {
      "cell_type": "code",
      "source": [
        "for i in range(0,3):\n",
        "\n",
        "  nome = input('Digite o nome da pessoa: ')\n",
        "  print(f'Parabéns por toda sua ajuda no projeto, você está sendo essencial para o resultado que estamos atingindo, {nome}')"
      ],
      "metadata": {
        "id": "UK6G9IjVqHVE"
      },
      "execution_count": null,
      "outputs": []
    },
    {
      "cell_type": "code",
      "source": [
        "i = 0\n",
        "\n",
        "while i < 3:\n",
        "\n",
        "  nome = input('Digite o nome da pessoa: ')\n",
        "  print(f'Parabéns por toda sua ajuda no projeto, você está sendo essencial para o resultado que estamos atingindo, {nome}')\n",
        "  i += 1"
      ],
      "metadata": {
        "id": "O5tTzfDX_W0f"
      },
      "execution_count": null,
      "outputs": []
    },
    {
      "cell_type": "markdown",
      "source": [
        "Questão 9. Um aluno da DNC tem uma certa quantidade de notas em seu cofrinho e\n",
        "hoje ele decidiu quebrá-lo, com isso ele quer criar um programa que armazene todas as\n",
        "notas e ao final do processo ele quer saber o valor total e printar as notas que ele\n",
        "possui na tela. Monte uma estrutura onde seja guardado os valores das notas e imprima\n",
        "a soma delas ao final. Utilize a estrutura de repetição while"
      ],
      "metadata": {
        "id": "pr61rlmGpJbM"
      }
    },
    {
      "cell_type": "code",
      "source": [
        "notas = []\n",
        "\n",
        "quebrou = 0\n",
        "\n",
        "while quebrou == 0:\n",
        "\n",
        "  nota = int(input('Digite a nota: '))\n",
        "\n",
        "  if nota == 0:\n",
        "    break\n",
        "\n",
        "  notas.append(nota)\n",
        "\n",
        "print(f'Total = {sum(notas)}')\n",
        "print(f'Notas = {notas}')"
      ],
      "metadata": {
        "colab": {
          "base_uri": "https://localhost:8080/"
        },
        "id": "yZld-xUpqHuH",
        "outputId": "3b3df1d1-5769-4953-e430-a3fad7b2d58a"
      },
      "execution_count": null,
      "outputs": [
        {
          "output_type": "stream",
          "name": "stdout",
          "text": [
            "Digite a nota: 10\n",
            "Digite a nota: 20\n",
            "Digite a nota: 50\n",
            "Digite a nota: 0\n",
            "Total = 80\n",
            "Notas = [10, 20, 50]\n"
          ]
        }
      ]
    },
    {
      "cell_type": "markdown",
      "source": [
        "Questão 10. O aluno da DNC resolveu criar um dicionário com as informações dos 5\n",
        "membros de seu grupo, ele precisa inserir o Nome, RID, Idade, Cidade e Cargo no time\n",
        "de projeto. Crie um dicionário que satisfaça isso e print cada chave e valor de cada\n",
        "integrante.\n"
      ],
      "metadata": {
        "id": "0WWcNZUypJdb"
      }
    },
    {
      "cell_type": "code",
      "source": [
        "alunos = {\n",
        "\n",
        "          'aluno_1' : {},\n",
        "          'aluno_2' : {},\n",
        "          'aluno_3' : {},\n",
        "          'aluno_4' : {},\n",
        "          'aluno_5' : {}\n",
        "\n",
        "          }\n",
        "\n",
        "for aluno in alunos.keys():\n",
        "\n",
        "  alunos[aluno]['Nome'] = input('Digite o nome: ')\n",
        "  alunos[aluno]['RID'] = int(input('Digite o RID: '))\n",
        "  alunos[aluno]['Idade'] = int(input('Digite a idade: '))\n",
        "  alunos[aluno]['Cidade'] = input('Digite a cidade: ')\n",
        "  alunos[aluno]['Cargo'] = input('Digite o cargo: ')\n",
        "\n",
        "\n",
        "\n",
        "for aluno in alunos.keys():\n",
        "\n",
        "  for k, v in alunos[aluno].items():\n",
        "\n",
        "    print(k,v)\n"
      ],
      "metadata": {
        "id": "i_GKn_zBqICY"
      },
      "execution_count": null,
      "outputs": []
    },
    {
      "cell_type": "markdown",
      "source": [
        "Questão 11.Crie uma função, em que sempre ao ser chamada faz a soma de todas as\n",
        "notas (dinheiro) que você inserir na função."
      ],
      "metadata": {
        "id": "ZKRvvTRPpJfy"
      }
    },
    {
      "cell_type": "code",
      "source": [
        "def somaNotas(*args):\n",
        "\n",
        "  soma = 0\n",
        "  for i in args:\n",
        "    soma += i\n",
        "\n",
        "  print(f'A soma das notas é R$ {soma:.2f}')"
      ],
      "metadata": {
        "id": "R2Xv4xYGIYlc"
      },
      "execution_count": null,
      "outputs": []
    },
    {
      "cell_type": "code",
      "source": [
        "somaNotas(10, 20, 50)"
      ],
      "metadata": {
        "colab": {
          "base_uri": "https://localhost:8080/"
        },
        "id": "vAu0p2NUJK4K",
        "outputId": "b9f6b7ad-8c02-4a89-f942-e5d6ccdb6091"
      },
      "execution_count": null,
      "outputs": [
        {
          "output_type": "stream",
          "name": "stdout",
          "text": [
            "A soma das notas é R$ 80.00\n"
          ]
        }
      ]
    }
  ]
}